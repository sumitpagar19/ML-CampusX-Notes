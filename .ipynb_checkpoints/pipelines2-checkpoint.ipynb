{
 "cells": [
  {
   "cell_type": "code",
   "execution_count": 1,
   "id": "c48d8519-ee39-4866-ace5-2ac69602f97e",
   "metadata": {},
   "outputs": [],
   "source": [
    "import pickle\n",
    "import numpy as np"
   ]
  },
  {
   "cell_type": "code",
   "execution_count": 5,
   "id": "653de14a-2874-49d0-a89c-d59186b82c44",
   "metadata": {},
   "outputs": [],
   "source": [
    "ohe_sex = pickle.load(open('models/models/ohe_sex.pkl','rb'))\n",
    "ohe_embarked = pickle.load(open('models/models/he_embarked.pkl','rb'))\n",
    "clf = pickle.load(open('models/models/clf.pkl','rb'))"
   ]
  },
  {
   "cell_type": "code",
   "execution_count": null,
   "id": "4034024d-56ad-4d0a-8c9e-c5346d092320",
   "metadata": {},
   "outputs": [],
   "source": [
    "test_input = np.array[2,'male',31.0,0,0,10.5,'"
   ]
  }
 ],
 "metadata": {
  "kernelspec": {
   "display_name": "Python 3 (ipykernel)",
   "language": "python",
   "name": "python3"
  },
  "language_info": {
   "codemirror_mode": {
    "name": "ipython",
    "version": 3
   },
   "file_extension": ".py",
   "mimetype": "text/x-python",
   "name": "python",
   "nbconvert_exporter": "python",
   "pygments_lexer": "ipython3",
   "version": "3.12.7"
  }
 },
 "nbformat": 4,
 "nbformat_minor": 5
}
