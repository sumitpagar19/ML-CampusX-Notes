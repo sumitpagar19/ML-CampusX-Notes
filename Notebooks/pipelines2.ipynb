{
 "cells": [
  {
   "cell_type": "code",
   "execution_count": 1,
   "id": "c48d8519-ee39-4866-ace5-2ac69602f97e",
   "metadata": {},
   "outputs": [],
   "source": [
    "import pickle\n",
    "import numpy as np"
   ]
  },
  {
   "cell_type": "code",
   "execution_count": 5,
   "id": "653de14a-2874-49d0-a89c-d59186b82c44",
   "metadata": {},
   "outputs": [],
   "source": [
    "ohe_sex = pickle.load(open('models/models/ohe_sex.pkl','rb'))\n",
    "ohe_embarked = pickle.load(open('models/models/he_embarked.pkl','rb'))\n",
    "clf = pickle.load(open('models/models/clf.pkl','rb'))"
   ]
  },
  {
   "cell_type": "code",
   "execution_count": 7,
   "id": "4034024d-56ad-4d0a-8c9e-c5346d092320",
   "metadata": {},
   "outputs": [],
   "source": [
    "test_input = np.array([2,'male',31.0,0,0,10.5,'S'],dtype=object).reshape(1,7)"
   ]
  },
  {
   "cell_type": "code",
   "execution_count": 8,
   "id": "65417825-4554-4e5a-92af-4aa6ab0a516b",
   "metadata": {},
   "outputs": [
    {
     "data": {
      "text/plain": [
       "array([[2, 'male', 31.0, 0, 0, 10.5, 'S']], dtype=object)"
      ]
     },
     "execution_count": 8,
     "metadata": {},
     "output_type": "execute_result"
    }
   ],
   "source": [
    "test_input"
   ]
  },
  {
   "cell_type": "code",
   "execution_count": 10,
   "id": "fc682f1a-523e-4da4-9292-a0081b46a0f2",
   "metadata": {},
   "outputs": [],
   "source": [
    "import pandas as pd\n",
    "\n",
    "test_input_sex = pd.DataFrame([[test_input[0, 1]]], columns=[\"Sex\"])\n",
    "test_input_sex_encoded = ohe_sex.transform(test_input_sex)\n"
   ]
  },
  {
   "cell_type": "code",
   "execution_count": 16,
   "id": "efaa1f90-01f9-479e-ac44-fe3fd4f15c18",
   "metadata": {},
   "outputs": [
    {
     "data": {
      "text/html": [
       "<div>\n",
       "<style scoped>\n",
       "    .dataframe tbody tr th:only-of-type {\n",
       "        vertical-align: middle;\n",
       "    }\n",
       "\n",
       "    .dataframe tbody tr th {\n",
       "        vertical-align: top;\n",
       "    }\n",
       "\n",
       "    .dataframe thead th {\n",
       "        text-align: right;\n",
       "    }\n",
       "</style>\n",
       "<table border=\"1\" class=\"dataframe\">\n",
       "  <thead>\n",
       "    <tr style=\"text-align: right;\">\n",
       "      <th></th>\n",
       "      <th>Sex</th>\n",
       "    </tr>\n",
       "  </thead>\n",
       "  <tbody>\n",
       "    <tr>\n",
       "      <th>0</th>\n",
       "      <td>male</td>\n",
       "    </tr>\n",
       "  </tbody>\n",
       "</table>\n",
       "</div>"
      ],
      "text/plain": [
       "    Sex\n",
       "0  male"
      ]
     },
     "execution_count": 16,
     "metadata": {},
     "output_type": "execute_result"
    }
   ],
   "source": [
    "test_input_sex "
   ]
  },
  {
   "cell_type": "code",
   "execution_count": 15,
   "id": "138517c4-1627-427e-b70c-eb93ac4ba3aa",
   "metadata": {},
   "outputs": [],
   "source": [
    "# test_input_embarked = ohe_embarked.transform(test_input[:,-1].reshape(1,1))\n",
    "\n",
    "test_input_embarked = pd.DataFrame([[test_input[0, 1]]], columns=[\"Embarked\"])\n",
    "test_input_embarked_encoded = ohe_embarked.transform(test_input_embarked)\n"
   ]
  },
  {
   "cell_type": "code",
   "execution_count": 20,
   "id": "9dff7195-982e-4f8e-9db9-16a164f454c7",
   "metadata": {},
   "outputs": [
    {
     "data": {
      "text/plain": [
       "(1, 1)"
      ]
     },
     "execution_count": 20,
     "metadata": {},
     "output_type": "execute_result"
    }
   ],
   "source": [
    "test_input_embarked.shape"
   ]
  },
  {
   "cell_type": "code",
   "execution_count": 18,
   "id": "1a4067e4-08e8-4b10-a558-89630429bd4c",
   "metadata": {},
   "outputs": [
    {
     "data": {
      "text/plain": [
       "<1x4 sparse matrix of type '<class 'numpy.float64'>'\n",
       "\twith 0 stored elements in Compressed Sparse Row format>"
      ]
     },
     "execution_count": 18,
     "metadata": {},
     "output_type": "execute_result"
    }
   ],
   "source": [
    "test_input_embarked_encoded"
   ]
  },
  {
   "cell_type": "code",
   "execution_count": null,
   "id": "11db17a5-8759-4d9c-a2d7-dcc62c6c6784",
   "metadata": {},
   "outputs": [],
   "source": [
    "# firse ab concatinate karnge and firse se pichle code ko repeat krenge which is so hectict so in next notbook we use pipeline"
   ]
  }
 ],
 "metadata": {
  "kernelspec": {
   "display_name": "Python 3 (ipykernel)",
   "language": "python",
   "name": "python3"
  },
  "language_info": {
   "codemirror_mode": {
    "name": "ipython",
    "version": 3
   },
   "file_extension": ".py",
   "mimetype": "text/x-python",
   "name": "python",
   "nbconvert_exporter": "python",
   "pygments_lexer": "ipython3",
   "version": "3.12.7"
  }
 },
 "nbformat": 4,
 "nbformat_minor": 5
}
